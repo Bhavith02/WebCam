{
 "cells": [
  {
   "cell_type": "code",
   "execution_count": 4,
   "metadata": {},
   "outputs": [],
   "source": [
    "#making a basic Bokeh line graph\n",
    "\n",
    "#importing Bokeh\n",
    "from bokeh.plotting import figure\n",
    "from bokeh.io import output_file,show\n",
    "\n",
    "#preparing some data\n",
    "x=[1,2,3,4,5]\n",
    "y=[6,7,8,9,10]\n",
    "\n",
    "#prepare the output file\n",
    "output_file(\"circle.html\")\n",
    "\n",
    "#create a figure object\n",
    "f=figure()\n",
    "\n",
    "#create line plot\n",
    "f.circle(x,y)\n",
    "\n",
    "show(f)"
   ]
  },
  {
   "cell_type": "code",
   "execution_count": 59,
   "metadata": {},
   "outputs": [],
   "source": [
    "#making a basic Bokeh line graph\n",
    "\n",
    "#importing bokeh and pandas\n",
    "from bokeh.plotting import figure\n",
    "from bokeh.io import output_file,show\n",
    "import pandas\n",
    "\n",
    "#preparing some data\n",
    "f=figure(plot_width=1000,plot_height=400,tools=\"pan,reset\")\n",
    "\n",
    "#prepare the output file\n",
    "output_file(\"Scatter_plotting.html\")\n",
    "\n",
    "#create a figure object\n",
    "f=figure()\n",
    "f.title.text=\"Earthquake\"\n",
    "f.title.text_color=\"Red\"\n",
    "f.title.text_font=\"times new roman\"\n",
    "f.title.text_font_style=\"italic\"\n",
    "f.xaxis.axis_label=\"Times\"\n",
    "f.xaxis.axis_label_text_color=\"Orange\"\n",
    "f.xaxis.axis_label_text_font=\"arial\"\n",
    "f.xaxis.axis_label_text_font_style=\"bold\"\n",
    "f.yaxis.axis_label=\"Value\"\n",
    "f.yaxis.axis_label_text_color=\"blue\"\n",
    "f.yaxis.axis_label_text_font=\"arial\"\n",
    "f.yaxis.axis_label_text_font_style=\"bold\"\n",
    "f.yaxis.minor_tick_line_color=\"Yellow\"\n",
    "#create line plot\n",
    "f.patch([1,2,3,4,5],[1,5,3,1,2],line_width=2,color=\"red\",alpha=0.5)\n",
    "f.square([i*2 for i in [1,2,3,4,5]],[5,3,1,9,10],size=8,color=\"purple\",alpha=0.5)\n",
    "\n",
    "show(f)"
   ]
  },
  {
   "cell_type": "code",
   "execution_count": 53,
   "metadata": {},
   "outputs": [],
   "source": [
    "from bokeh.plotting import figure,output_file,show\n",
    "import pandas\n",
    "\n",
    "df=pandas.read_csv(\"adbe.csv\",parse_dates=[\"Date\"])\n",
    "p=figure(width=1000,height=500,x_axis_type=\"datetime\")\n",
    "p.line(df[\"Date\"],df[\"Close\"],color=\"Red\",alpha=0.5)\n",
    "output_file(\"Timeseries.html\")\n",
    "show(p)"
   ]
  }
 ],
 "metadata": {
  "kernelspec": {
   "display_name": "Python 3",
   "language": "python",
   "name": "python3"
  },
  "language_info": {
   "codemirror_mode": {
    "name": "ipython",
    "version": 3
   },
   "file_extension": ".py",
   "mimetype": "text/x-python",
   "name": "python",
   "nbconvert_exporter": "python",
   "pygments_lexer": "ipython3",
   "version": "3.8.0"
  }
 },
 "nbformat": 4,
 "nbformat_minor": 4
}
